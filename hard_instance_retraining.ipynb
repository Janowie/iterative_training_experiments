{
 "cells": [
  {
   "cell_type": "code",
   "execution_count": 1,
   "metadata": {},
   "outputs": [],
   "source": [
    "import tensorflow as tf\n",
    "import pandas as pd\n",
    "import numpy as np"
   ]
  },
  {
   "cell_type": "code",
   "execution_count": 2,
   "metadata": {},
   "outputs": [
    {
     "name": "stdout",
     "output_type": "stream",
     "text": [
      "Using TF version 2.6.0\n",
      "Seeing GPUs: [PhysicalDevice(name='/physical_device:GPU:0', device_type='GPU')]\n"
     ]
    }
   ],
   "source": [
    "import os\n",
    "\n",
    "os.environ['TF_FORCE_GPU_ALLOW_GROWTH'] = 'true'\n",
    "\n",
    "print(\"Using TF version\", tf.__version__)\n",
    "print(\"Seeing GPUs:\", tf.config.list_physical_devices('GPU'))"
   ]
  },
  {
   "cell_type": "code",
   "execution_count": 3,
   "metadata": {},
   "outputs": [
    {
     "data": {
      "text/html": [
       "<div>\n",
       "<style scoped>\n",
       "    .dataframe tbody tr th:only-of-type {\n",
       "        vertical-align: middle;\n",
       "    }\n",
       "\n",
       "    .dataframe tbody tr th {\n",
       "        vertical-align: top;\n",
       "    }\n",
       "\n",
       "    .dataframe thead th {\n",
       "        text-align: right;\n",
       "    }\n",
       "</style>\n",
       "<table border=\"1\" class=\"dataframe\">\n",
       "  <thead>\n",
       "    <tr style=\"text-align: right;\">\n",
       "      <th></th>\n",
       "      <th>miRNA</th>\n",
       "      <th>gene</th>\n",
       "      <th>label</th>\n",
       "      <th>model_1</th>\n",
       "      <th>model_2</th>\n",
       "      <th>model_3</th>\n",
       "      <th>model_4</th>\n",
       "      <th>model_5</th>\n",
       "      <th>hardness</th>\n",
       "    </tr>\n",
       "  </thead>\n",
       "  <tbody>\n",
       "    <tr>\n",
       "      <th>0</th>\n",
       "      <td>ACCCTATCAATATTGTCTCT</td>\n",
       "      <td>TCTAGTGAAGATGATGAGCTGGTAGAAGAGAAGAAGCAGCAACGAA...</td>\n",
       "      <td>0</td>\n",
       "      <td>0.417197</td>\n",
       "      <td>0.115807</td>\n",
       "      <td>0.376320</td>\n",
       "      <td>0.021328</td>\n",
       "      <td>0.339230</td>\n",
       "      <td>0.467126</td>\n",
       "    </tr>\n",
       "    <tr>\n",
       "      <th>1</th>\n",
       "      <td>CAGTGCAATAGTATTGTCAA</td>\n",
       "      <td>CCCCTCTGCCCTGGACTTTCCCATGAGCCTCCTGGAACTGCCAGCC...</td>\n",
       "      <td>0</td>\n",
       "      <td>0.002458</td>\n",
       "      <td>0.000596</td>\n",
       "      <td>0.000301</td>\n",
       "      <td>0.000491</td>\n",
       "      <td>0.001324</td>\n",
       "      <td>0.286453</td>\n",
       "    </tr>\n",
       "    <tr>\n",
       "      <th>2</th>\n",
       "      <td>TAAAGTGCTTATAGTGCAGG</td>\n",
       "      <td>GACGTGCTGAAGCTGGGAGAGCAGAAACAGGCAGAGGCTGGAGAGA...</td>\n",
       "      <td>0</td>\n",
       "      <td>0.934873</td>\n",
       "      <td>0.551668</td>\n",
       "      <td>0.140858</td>\n",
       "      <td>0.502673</td>\n",
       "      <td>0.857216</td>\n",
       "      <td>0.712470</td>\n",
       "    </tr>\n",
       "    <tr>\n",
       "      <th>3</th>\n",
       "      <td>CTAGGTATGGTCCCAGGGAT</td>\n",
       "      <td>AGCTCATGGTCTCAGAAGGCTGGAAGGATGCAGGTTATGAGTACCT...</td>\n",
       "      <td>0</td>\n",
       "      <td>0.095796</td>\n",
       "      <td>0.135030</td>\n",
       "      <td>0.128284</td>\n",
       "      <td>0.003566</td>\n",
       "      <td>0.004440</td>\n",
       "      <td>0.338159</td>\n",
       "    </tr>\n",
       "    <tr>\n",
       "      <th>4</th>\n",
       "      <td>AGCTCGGTCTGAGGCCCCTC</td>\n",
       "      <td>CAGGGAAGGAGACCGTCAGGCCGCATGTAGACAATGCTGCTAAGAA...</td>\n",
       "      <td>0</td>\n",
       "      <td>0.409002</td>\n",
       "      <td>0.050827</td>\n",
       "      <td>0.307442</td>\n",
       "      <td>0.121539</td>\n",
       "      <td>0.356426</td>\n",
       "      <td>0.463605</td>\n",
       "    </tr>\n",
       "  </tbody>\n",
       "</table>\n",
       "</div>"
      ],
      "text/plain": [
       "                  miRNA                                               gene  \\\n",
       "0  ACCCTATCAATATTGTCTCT  TCTAGTGAAGATGATGAGCTGGTAGAAGAGAAGAAGCAGCAACGAA...   \n",
       "1  CAGTGCAATAGTATTGTCAA  CCCCTCTGCCCTGGACTTTCCCATGAGCCTCCTGGAACTGCCAGCC...   \n",
       "2  TAAAGTGCTTATAGTGCAGG  GACGTGCTGAAGCTGGGAGAGCAGAAACAGGCAGAGGCTGGAGAGA...   \n",
       "3  CTAGGTATGGTCCCAGGGAT  AGCTCATGGTCTCAGAAGGCTGGAAGGATGCAGGTTATGAGTACCT...   \n",
       "4  AGCTCGGTCTGAGGCCCCTC  CAGGGAAGGAGACCGTCAGGCCGCATGTAGACAATGCTGCTAAGAA...   \n",
       "\n",
       "   label   model_1   model_2   model_3   model_4   model_5  hardness  \n",
       "0      0  0.417197  0.115807  0.376320  0.021328  0.339230  0.467126  \n",
       "1      0  0.002458  0.000596  0.000301  0.000491  0.001324  0.286453  \n",
       "2      0  0.934873  0.551668  0.140858  0.502673  0.857216  0.712470  \n",
       "3      0  0.095796  0.135030  0.128284  0.003566  0.004440  0.338159  \n",
       "4      0  0.409002  0.050827  0.307442  0.121539  0.356426  0.463605  "
      ]
     },
     "execution_count": 3,
     "metadata": {},
     "output_type": "execute_result"
    }
   ],
   "source": [
    "base_dir = \"master_thesis/datasets\"\n",
    "\n",
    "df = pd.read_csv(f\"{base_dir}/train_1_100_hardness.csv\")\n",
    "df.head()"
   ]
  },
  {
   "cell_type": "markdown",
   "metadata": {},
   "source": [
    "## Helper functions\n",
    "\n",
    "These functions should be moved into library!"
   ]
  },
  {
   "cell_type": "code",
   "execution_count": 4,
   "metadata": {},
   "outputs": [],
   "source": [
    "def encode_ohe_matrix_2d(miRNA, gene, tensor_dim=(50, 20, 1)):  # , categories=False\n",
    "    \"\"\"\n",
    "    fun transform input database to one hot encoding numpy array.\n",
    "\n",
    "    parameters:\n",
    "    df = Pandas df with col names \"binding_sequence\", \"label\", \"mirna_binding_sequence\"\n",
    "    tensor_dim= 2d matrix shape\n",
    "\n",
    "    output:\n",
    "    2d dot matrix, labels as np array\n",
    "    \"\"\"\n",
    "\n",
    "    # Check if input sequences have the expected length\n",
    "    if (len(gene) > tensor_dim[0]) or (len(miRNA) > tensor_dim[1]):\n",
    "        print(len(gene), tensor_dim[0], len(miRNA), tensor_dim[1])\n",
    "        return None\n",
    "\n",
    "    # alphabet for watson-crick interactions.\n",
    "    alphabet = {\"AT\": 1., \"TA\": 1., \"GC\": 1., \"CG\": 1.}\n",
    "\n",
    "    # initialize dot matrix with zeros\n",
    "    ohe_matrix_2d = np.zeros(tensor_dim, dtype=\"float32\")\n",
    "\n",
    "    # compile matrix with watson-crick interactions.\n",
    "    for bind_index, bind_nt in enumerate(gene):\n",
    "        for mirna_index, mirna_nt in enumerate(miRNA):\n",
    "            base_pairs = bind_nt + mirna_nt\n",
    "            ohe_matrix_2d[bind_index, mirna_index, 0] = alphabet.get(base_pairs, 0)\n",
    "\n",
    "    return ohe_matrix_2d\n"
   ]
  },
  {
   "cell_type": "markdown",
   "metadata": {},
   "source": [
    "### Data preprocessing"
   ]
  },
  {
   "cell_type": "code",
   "execution_count": 5,
   "metadata": {},
   "outputs": [],
   "source": [
    "# Function called in \"map\" responsible for triggering encoding\n",
    "\n",
    "def _encode(*row):\n",
    "\n",
    "  mirna, gene, label = row\n",
    "\n",
    "  encoded = encode_ohe_matrix_2d(mirna.numpy().decode(\"utf-8\") , gene.numpy().decode(\"utf-8\") , tensor_dim=(50, 20, 1))\n",
    "\n",
    "  features = tf.convert_to_tensor(encoded, dtype=tf.int8)\n",
    "  # label = tf.one_hot(int(label), 2, dtype=tf.int8)\n",
    "  label = int(label)\n",
    "\n",
    "  return features, label\n",
    "\n",
    "def _py_func_encode(*x):\n",
    "  return tf.py_function(_encode, x, [tf.int8, tf.int8])\n",
    "\n",
    "def _concat_datasets(*x):\n",
    "  (d1, l1), (d2, l2) = x\n",
    "  return tf.concat([d1, d2], 0), tf.concat([l1, l2], 0)"
   ]
  },
  {
   "cell_type": "code",
   "execution_count": 6,
   "metadata": {},
   "outputs": [],
   "source": [
    "def get_dataset(file_path, batch_size=1024, field_delim=','):\n",
    "\n",
    "  # Load data from csv directly\n",
    "  default_dtype = [tf.string] * 3 # Load everything as strings\n",
    "  dataset = tf.data.experimental.CsvDataset(\n",
    "      [file_path],\n",
    "      default_dtype,\n",
    "      header=True, \n",
    "      field_delim=field_delim\n",
    "  )\n",
    "\n",
    "  # Encode dataset <-- really slow ...\n",
    "  dataset = dataset.map(_py_func_encode, num_parallel_calls=tf.data.AUTOTUNE)\n",
    "\n",
    "  # Cache encoded\n",
    "  dataset = dataset.cache()\n",
    "\n",
    "  # Shuffle dataset each time to create different batches\n",
    "  dataset = dataset.shuffle(1000000, reshuffle_each_iteration=True)\n",
    "  dataset = dataset.batch(batch_size)\n",
    "  dataset = dataset.prefetch(tf.data.AUTOTUNE)\n",
    "\n",
    "  return dataset"
   ]
  },
  {
   "cell_type": "markdown",
   "metadata": {},
   "source": [
    "## Exploring hard instances"
   ]
  },
  {
   "cell_type": "code",
   "execution_count": 4,
   "metadata": {},
   "outputs": [
    {
     "name": "stdout",
     "output_type": "stream",
     "text": [
      "\n",
      "\n",
      "Number of hard instances with given 'hardness' threshold\n"
     ]
    },
    {
     "data": {
      "text/html": [
       "<div>\n",
       "<style scoped>\n",
       "    .dataframe tbody tr th:only-of-type {\n",
       "        vertical-align: middle;\n",
       "    }\n",
       "\n",
       "    .dataframe tbody tr th {\n",
       "        vertical-align: top;\n",
       "    }\n",
       "\n",
       "    .dataframe thead th {\n",
       "        text-align: right;\n",
       "    }\n",
       "</style>\n",
       "<table border=\"1\" class=\"dataframe\">\n",
       "  <thead>\n",
       "    <tr style=\"text-align: right;\">\n",
       "      <th></th>\n",
       "      <th>&gt; 0.5</th>\n",
       "      <th>&gt; 0.6</th>\n",
       "      <th>&gt; 0.7</th>\n",
       "      <th>&gt; 0.8</th>\n",
       "      <th>&gt; 0.9</th>\n",
       "    </tr>\n",
       "    <tr>\n",
       "      <th>label</th>\n",
       "      <th></th>\n",
       "      <th></th>\n",
       "      <th></th>\n",
       "      <th></th>\n",
       "      <th></th>\n",
       "    </tr>\n",
       "  </thead>\n",
       "  <tbody>\n",
       "    <tr>\n",
       "      <th>0</th>\n",
       "      <td>132815</td>\n",
       "      <td>99931</td>\n",
       "      <td>73581</td>\n",
       "      <td>50722</td>\n",
       "      <td>28620</td>\n",
       "    </tr>\n",
       "    <tr>\n",
       "      <th>1</th>\n",
       "      <td>3514</td>\n",
       "      <td>3214</td>\n",
       "      <td>2960</td>\n",
       "      <td>2694</td>\n",
       "      <td>2382</td>\n",
       "    </tr>\n",
       "  </tbody>\n",
       "</table>\n",
       "</div>"
      ],
      "text/plain": [
       "        > 0.5  > 0.6  > 0.7  > 0.8  > 0.9\n",
       "label                                    \n",
       "0      132815  99931  73581  50722  28620\n",
       "1        3514   3214   2960   2694   2382"
      ]
     },
     "execution_count": 4,
     "metadata": {},
     "output_type": "execute_result"
    }
   ],
   "source": [
    "print(\"\\n\\nNumber of hard instances with given 'hardness' threshold\")\n",
    "\n",
    "pd.concat([\n",
    "    \n",
    "    df[df['hardness'] > 0.5][['hardness', 'label']].groupby('label').count().rename(columns={\"hardness\": \"> 0.5\"}),\n",
    "    df[df['hardness'] > 0.6][['hardness', 'label']].groupby('label').count().rename(columns={\"hardness\": \"> 0.6\"}),\n",
    "    df[df['hardness'] > 0.7][['hardness', 'label']].groupby('label').count().rename(columns={\"hardness\": \"> 0.7\"}),\n",
    "    df[df['hardness'] > 0.8][['hardness', 'label']].groupby('label').count().rename(columns={\"hardness\": \"> 0.8\"}),\n",
    "    df[df['hardness'] > 0.9][['hardness', 'label']].groupby('label').count().rename(columns={\"hardness\": \"> 0.9\"})\n",
    "    \n",
    "    ], axis=1)"
   ]
  },
  {
   "cell_type": "code",
   "execution_count": 46,
   "metadata": {},
   "outputs": [
    {
     "name": "stdout",
     "output_type": "stream",
     "text": [
      "\n",
      "\n",
      "Example of hard instances from both classes:\n"
     ]
    },
    {
     "data": {
      "image/png": "[encoded data removed]",
      "text/plain": [
       "<Figure size 432x288 with 2 Axes>"
      ]
     },
     "metadata": {
      "needs_background": "light"
     },
     "output_type": "display_data"
    }
   ],
   "source": [
    "import matplotlib.pyplot as plt\n",
    "\n",
    "# Encode and plot random hard instances\n",
    "\n",
    "index_p = df[(df['hardness'] > 0.9) & (df['label'] == 1)].sample(n=1).index[0]\n",
    "index_n = df[(df['hardness'] > 0.9) & (df['label'] == 0)].sample(n=1).index[0]\n",
    "\n",
    "sample_p = df.iloc[index_p]\n",
    "sample_n = df.iloc[index_n]\n",
    "\n",
    "sample_p = encode_ohe_matrix_2d(sample_p['miRNA'], sample_p['gene'])\n",
    "sample_n = encode_ohe_matrix_2d(sample_n['miRNA'], sample_n['gene'])\n",
    "\n",
    "print(\"\\n\\nExample of hard instances from both classes:\")\n",
    "\n",
    "f, ax = plt.subplots(1, 2)\n",
    "ax[0].imshow(sample_p.squeeze(), cmap='Blues')\n",
    "ax[0].set_title(f\"Positive\")\n",
    "\n",
    "ax[1].imshow(sample_n.squeeze(), cmap='Blues')\n",
    "ax[1].set_title(f\"Negative\")\n",
    "\n",
    "plt.show()"
   ]
  },
  {
   "cell_type": "markdown",
   "metadata": {},
   "source": [
    "## Retraining\n",
    "\n",
    "To validate the effect of retraining using hard instances, we will repeat each retraining method with randomly sampled data."
   ]
  },
  {
   "cell_type": "markdown",
   "metadata": {},
   "source": [
    "### Whole network retraining\n",
    "\n",
    "In this experiment the whole network is retrained. We will retrain the network using these data:\n",
    "\n",
    "| ratio \t| class weight \t|\n",
    "|-------\t|--------------\t|\n",
    "| 1:1   \t| 1:1          \t|\n",
    "| 1:100 \t| 1:1          \t|\n",
    "| 1:100 \t| 1:100        \t|"
   ]
  },
  {
   "cell_type": "markdown",
   "metadata": {},
   "source": [
    "#### Hardness > 0.9"
   ]
  },
  {
   "cell_type": "markdown",
   "metadata": {},
   "source": [
    "##### Generating training datasets\n",
    "\n",
    "Since a preprocessing pipeline from csv exists, we will generate training CSVs,"
   ]
  },
  {
   "cell_type": "code",
   "execution_count": 27,
   "metadata": {},
   "outputs": [
    {
     "ename": "NameError",
     "evalue": "name 'df' is not defined",
     "output_type": "error",
     "traceback": [
      "\u001b[1;31m---------------------------------------------------------------------------\u001b[0m",
      "\u001b[1;31mNameError\u001b[0m                                 Traceback (most recent call last)",
      "\u001b[1;32me:\\Skola\\master_thesis\\iterative_training_experiments\\hard_instance_retraining.ipynb Cell 16'\u001b[0m in \u001b[0;36m<cell line: 1>\u001b[1;34m()\u001b[0m\n\u001b[1;32m----> <a href='vscode-notebook-cell:/e%3A/Skola/master_thesis/iterative_training_experiments/hard_instance_retraining.ipynb#ch0000022?line=0'>1</a>\u001b[0m num_positive \u001b[39m=\u001b[39m \u001b[39mlen\u001b[39m(df[df[\u001b[39m'\u001b[39m\u001b[39mlabel\u001b[39m\u001b[39m'\u001b[39m] \u001b[39m==\u001b[39m \u001b[39m1\u001b[39m])\n\u001b[0;32m      <a href='vscode-notebook-cell:/e%3A/Skola/master_thesis/iterative_training_experiments/hard_instance_retraining.ipynb#ch0000022?line=1'>2</a>\u001b[0m \u001b[39mprint\u001b[39m(\u001b[39m\"\u001b[39m\u001b[39mNumber of positive samples is\u001b[39m\u001b[39m\"\u001b[39m, num_positive)\n",
      "\u001b[1;31mNameError\u001b[0m: name 'df' is not defined"
     ]
    }
   ],
   "source": [
    "num_positive = len(df[df['label'] == 1])\n",
    "print(\"Number of positive samples is\", num_positive)"
   ]
  },
  {
   "cell_type": "code",
   "execution_count": 79,
   "metadata": {},
   "outputs": [
    {
     "data": {
      "text/html": [
       "<div>\n",
       "<style scoped>\n",
       "    .dataframe tbody tr th:only-of-type {\n",
       "        vertical-align: middle;\n",
       "    }\n",
       "\n",
       "    .dataframe tbody tr th {\n",
       "        vertical-align: top;\n",
       "    }\n",
       "\n",
       "    .dataframe thead th {\n",
       "        text-align: right;\n",
       "    }\n",
       "</style>\n",
       "<table border=\"1\" class=\"dataframe\">\n",
       "  <thead>\n",
       "    <tr style=\"text-align: right;\">\n",
       "      <th></th>\n",
       "      <th>miRNA</th>\n",
       "      <th>gene</th>\n",
       "      <th>label</th>\n",
       "    </tr>\n",
       "  </thead>\n",
       "  <tbody>\n",
       "    <tr>\n",
       "      <th>0</th>\n",
       "      <td>CAAATTCGTATCTAGGGGAA</td>\n",
       "      <td>AAGGAAGGAGATATAGTGAAGAGGACAGGAGCCATTGTGGACGTTC...</td>\n",
       "      <td>0</td>\n",
       "    </tr>\n",
       "    <tr>\n",
       "      <th>1</th>\n",
       "      <td>AATTGCACGGTATCCATCTG</td>\n",
       "      <td>AGTGGCAGCAGAGGATGAGGAAAATGTCGCAGGAGGTTTGCACATT...</td>\n",
       "      <td>0</td>\n",
       "    </tr>\n",
       "    <tr>\n",
       "      <th>2</th>\n",
       "      <td>CAACGGAATCCCAAAAGCAG</td>\n",
       "      <td>CAGAGAGAGGCCCACGGCTGTTTCTTGAAATCTGGCGCTGGGAATG...</td>\n",
       "      <td>0</td>\n",
       "    </tr>\n",
       "    <tr>\n",
       "      <th>3</th>\n",
       "      <td>AACTGGCCTACAAAGTCCCA</td>\n",
       "      <td>CTTAGTGCACAAGCCTACCTTCTTTTCTATGAAAGAGTATTATAAC...</td>\n",
       "      <td>0</td>\n",
       "    </tr>\n",
       "    <tr>\n",
       "      <th>4</th>\n",
       "      <td>TAAGGTGCATCTAGTGCAGA</td>\n",
       "      <td>TGCACGAGCTGAAGGACCTGCGGGAGTATGACACAGCCGAGGCCCA...</td>\n",
       "      <td>0</td>\n",
       "    </tr>\n",
       "    <tr>\n",
       "      <th>...</th>\n",
       "      <td>...</td>\n",
       "      <td>...</td>\n",
       "      <td>...</td>\n",
       "    </tr>\n",
       "    <tr>\n",
       "      <th>30779</th>\n",
       "      <td>TGAGGTAGTAGGTTGTGTGG</td>\n",
       "      <td>GAGCCAGGCCTACACCCCAGCAACCATGTCCAAGGGACCTGCAGTT...</td>\n",
       "      <td>1</td>\n",
       "    </tr>\n",
       "    <tr>\n",
       "      <th>30780</th>\n",
       "      <td>TAGCAGCACATCATGGTTTA</td>\n",
       "      <td>GTGTGCTGCGGTTCATCATGGAGAGTGGGGCCAAAGGCTGCGAGGT...</td>\n",
       "      <td>1</td>\n",
       "    </tr>\n",
       "    <tr>\n",
       "      <th>30781</th>\n",
       "      <td>ACTGCATTATGAGCACTTAA</td>\n",
       "      <td>GCTGAGGTGCTCATGGTGGAGGTAGAGAACGTTGTCCACGAGGACT...</td>\n",
       "      <td>1</td>\n",
       "    </tr>\n",
       "    <tr>\n",
       "      <th>30782</th>\n",
       "      <td>TGAGGTAGTAGGTTGTGTGG</td>\n",
       "      <td>CTAATTCTTCATTGGAAGCCACTCCCTTCACCTCACCTCACCTAGT...</td>\n",
       "      <td>1</td>\n",
       "    </tr>\n",
       "    <tr>\n",
       "      <th>30783</th>\n",
       "      <td>AACTGGCCTACAAAGTCCCA</td>\n",
       "      <td>TCTAAGATGAACCTGGGGACAAAGTGAGCCAGTCAGCACCTACAAA...</td>\n",
       "      <td>1</td>\n",
       "    </tr>\n",
       "  </tbody>\n",
       "</table>\n",
       "<p>30784 rows × 3 columns</p>\n",
       "</div>"
      ],
      "text/plain": [
       "                      miRNA  \\\n",
       "0      CAAATTCGTATCTAGGGGAA   \n",
       "1      AATTGCACGGTATCCATCTG   \n",
       "2      CAACGGAATCCCAAAAGCAG   \n",
       "3      AACTGGCCTACAAAGTCCCA   \n",
       "4      TAAGGTGCATCTAGTGCAGA   \n",
       "...                     ...   \n",
       "30779  TGAGGTAGTAGGTTGTGTGG   \n",
       "30780  TAGCAGCACATCATGGTTTA   \n",
       "30781  ACTGCATTATGAGCACTTAA   \n",
       "30782  TGAGGTAGTAGGTTGTGTGG   \n",
       "30783  AACTGGCCTACAAAGTCCCA   \n",
       "\n",
       "                                                    gene  label  \n",
       "0      AAGGAAGGAGATATAGTGAAGAGGACAGGAGCCATTGTGGACGTTC...      0  \n",
       "1      AGTGGCAGCAGAGGATGAGGAAAATGTCGCAGGAGGTTTGCACATT...      0  \n",
       "2      CAGAGAGAGGCCCACGGCTGTTTCTTGAAATCTGGCGCTGGGAATG...      0  \n",
       "3      CTTAGTGCACAAGCCTACCTTCTTTTCTATGAAAGAGTATTATAAC...      0  \n",
       "4      TGCACGAGCTGAAGGACCTGCGGGAGTATGACACAGCCGAGGCCCA...      0  \n",
       "...                                                  ...    ...  \n",
       "30779  GAGCCAGGCCTACACCCCAGCAACCATGTCCAAGGGACCTGCAGTT...      1  \n",
       "30780  GTGTGCTGCGGTTCATCATGGAGAGTGGGGCCAAAGGCTGCGAGGT...      1  \n",
       "30781  GCTGAGGTGCTCATGGTGGAGGTAGAGAACGTTGTCCACGAGGACT...      1  \n",
       "30782  CTAATTCTTCATTGGAAGCCACTCCCTTCACCTCACCTCACCTAGT...      1  \n",
       "30783  TCTAAGATGAACCTGGGGACAAAGTGAGCCAGTCAGCACCTACAAA...      1  \n",
       "\n",
       "[30784 rows x 3 columns]"
      ]
     },
     "execution_count": 79,
     "metadata": {},
     "output_type": "execute_result"
    }
   ],
   "source": [
    "df_ = pd.concat([\n",
    "    df[(df['hardness'] > 0.9) & (df['label'] == 0)].sample(n=num_positive),\n",
    "    df[df['label'] == 1].sample(frac=1.)\n",
    "    ], axis=0)[['miRNA', 'gene', 'label']]\n",
    "df_.reset_index(inplace=True)\n",
    "del df_['index']\n",
    "df_"
   ]
  },
  {
   "cell_type": "code",
   "execution_count": 80,
   "metadata": {},
   "outputs": [],
   "source": [
    "df_.to_csv(f\"{base_dir}/train_1_1_90_random.csv\", index=False)"
   ]
  },
  {
   "cell_type": "markdown",
   "metadata": {},
   "source": [
    "##### Training models\n",
    "\n",
    "1. model is retrained on `train_1_1_90.csv` which contains hard negative instances and all positive instances in ratio 1:1\n",
    "2. model is trained on randomly sampled data with ratio 1:1"
   ]
  },
  {
   "cell_type": "code",
   "execution_count": 6,
   "metadata": {},
   "outputs": [],
   "source": [
    "base_dir = \"master_thesis/datasets\"\n",
    "train_dataset_random = get_dataset(f\"{base_dir}/train_1_1_90_random.csv\", batch_size=1024)\n",
    "train_dataset = get_dataset(f\"{base_dir}/train_1_1_90.csv\", batch_size=1024)\n",
    "val_dataset = get_dataset(f\"{base_dir}/evaluation_set_CLASH2013_paper.tsv\", batch_size=1024, field_delim=\"\\t\")"
   ]
  },
  {
   "cell_type": "markdown",
   "metadata": {},
   "source": [
    "Let's encode test dataset separately, to get labels more easily."
   ]
  },
  {
   "cell_type": "code",
   "execution_count": 7,
   "metadata": {},
   "outputs": [],
   "source": [
    "def encode_and_label(row):\n",
    "    return encode_ohe_matrix_2d(row['miRNA'], row['gene']), row['label']"
   ]
  },
  {
   "cell_type": "code",
   "execution_count": 8,
   "metadata": {},
   "outputs": [
    {
     "data": {
      "application/vnd.jupyter.widget-view+json": {
       "model_id": "b88b2163014e4af19d68dfb2f628ede6",
       "version_major": 2,
       "version_minor": 0
      },
      "text/plain": [
       "Encoding test data 1:100:   0%|          | 0/202000 [00:00<?, ?it/s]"
      ]
     },
     "metadata": {},
     "output_type": "display_data"
    },
    {
     "data": {
      "application/vnd.jupyter.widget-view+json": {
       "model_id": "c436675dff6f4eabb635aa451b9b8478",
       "version_major": 2,
       "version_minor": 0
      },
      "text/plain": [
       "Encoding test data 1:1:   0%|          | 0/4000 [00:00<?, ?it/s]"
      ]
     },
     "metadata": {},
     "output_type": "display_data"
    }
   ],
   "source": [
    "from tqdm.notebook import tqdm\n",
    "\n",
    "test_df_100 = pd.read_csv(f\"{base_dir}/test_set_1_100_CLASH2013_paper.tsv\", sep=\"\\t\").sample(frac=1.)\n",
    "test_df_1 = pd.read_csv(f\"{base_dir}/test_set_CLASH2013_paper.tsv\", sep=\"\\t\").sample(frac=1.)\n",
    "\n",
    "tqdm.pandas(desc=\"Encoding test data 1:100\")\n",
    "test_data_100 = test_df_100[['miRNA', 'gene', 'label']].progress_apply(encode_and_label, axis=1, result_type='expand')\n",
    "\n",
    "tqdm.pandas(desc=\"Encoding test data 1:1\")\n",
    "test_data_1 = test_df_1[['miRNA', 'gene', 'label']].progress_apply(encode_and_label, axis=1, result_type='expand')"
   ]
  },
  {
   "cell_type": "markdown",
   "metadata": {},
   "source": [
    "Let's train the test (2.) model first."
   ]
  },
  {
   "cell_type": "code",
   "execution_count": 9,
   "metadata": {},
   "outputs": [
    {
     "name": "stdout",
     "output_type": "stream",
     "text": [
      "Models loaded\n"
     ]
    }
   ],
   "source": [
    "# Load \"base\" models\n",
    "model_random = tf.keras.models.load_model(f'master_thesis/models/1_1_basic_training_shuffle/model_1.h5')\n",
    "model = tf.keras.models.load_model(f'master_thesis/models/1_1_basic_training_shuffle/model_1.h5')\n",
    "\n",
    "print(\"Models loaded\")"
   ]
  },
  {
   "cell_type": "code",
   "execution_count": 10,
   "metadata": {},
   "outputs": [
    {
     "name": "stdout",
     "output_type": "stream",
     "text": [
      "\n",
      "Predicting model - random\n",
      "99/99 [==============================] - 7s 25ms/step\n",
      "2/2 [==============================] - 0s 312ms/step\n",
      "\n",
      "Predicting model - select\n",
      "99/99 [==============================] - 2s 22ms/step\n",
      "2/2 [==============================] - 0s 16ms/step\n"
     ]
    }
   ],
   "source": [
    "predictions = {}\n",
    "\n",
    "predictions['random'] = {}\n",
    "predictions['select'] = {}\n",
    "\n",
    "# Get evaluation before retraining\n",
    "predictions['random']['before'] = {}\n",
    "predictions['select']['before'] = {}\n",
    "\n",
    "print(\"\\nPredicting model - random\")\n",
    "predictions['random']['before']['100'] = model_random.predict(np.array(list(test_data_100[0])), batch_size=2048, verbose=1).squeeze()\n",
    "predictions['random']['before']['1'] = model_random.predict(np.array(list(test_data_1[0])), batch_size=2048, verbose=1).squeeze()\n",
    "\n",
    "print(\"\\nPredicting model - select\")\n",
    "predictions['select']['before']['100'] = model.predict(np.array(list(test_data_100[0])), batch_size=2048, verbose=1).squeeze()\n",
    "predictions['select']['before']['1'] = model.predict(np.array(list(test_data_1[0])), batch_size=2048, verbose=1).squeeze()"
   ]
  },
  {
   "cell_type": "code",
   "execution_count": 11,
   "metadata": {},
   "outputs": [
    {
     "name": "stdout",
     "output_type": "stream",
     "text": [
      "Restoring model weights from the end of the best epoch.\n",
      "Epoch 00028: early stopping\n"
     ]
    }
   ],
   "source": [
    "history = model.fit(x=train_dataset, \n",
    "            validation_data=val_dataset, \n",
    "            verbose=0,\n",
    "            epochs=100,\n",
    "            # batch_size=batch_size,\n",
    "            # steps_per_epoch=1000,\n",
    "            callbacks=[\n",
    "              tf.keras.callbacks.EarlyStopping(\n",
    "                monitor=\"val_loss\",\n",
    "                min_delta=0.05,\n",
    "                patience=25,\n",
    "                verbose=1,\n",
    "                mode=\"min\",\n",
    "                baseline=None,\n",
    "                restore_best_weights=True,\n",
    "              ), \n",
    "              tf.keras.callbacks.ModelCheckpoint(\n",
    "                f\"./model_1_retrained_select.h5\", \n",
    "                save_best_only=True, \n",
    "                verbose=0\n",
    "              )\n",
    "            ])"
   ]
  },
  {
   "cell_type": "code",
   "execution_count": 12,
   "metadata": {},
   "outputs": [
    {
     "name": "stdout",
     "output_type": "stream",
     "text": [
      "Restoring model weights from the end of the best epoch.\n",
      "Epoch 00027: early stopping\n"
     ]
    }
   ],
   "source": [
    "history = model_random.fit(x=train_dataset_random, \n",
    "            validation_data=val_dataset, \n",
    "            verbose=0,\n",
    "            epochs=100,\n",
    "            # batch_size=batch_size,\n",
    "            # steps_per_epoch=1000,\n",
    "            callbacks=[\n",
    "              tf.keras.callbacks.EarlyStopping(\n",
    "                monitor=\"val_loss\",\n",
    "                min_delta=0.05,\n",
    "                patience=25,\n",
    "                verbose=1,\n",
    "                mode=\"min\",\n",
    "                baseline=None,\n",
    "                restore_best_weights=True,\n",
    "              ), \n",
    "              tf.keras.callbacks.ModelCheckpoint(\n",
    "                f\"./model_1_retrained_random.h5\", \n",
    "                save_best_only=True, \n",
    "                verbose=0\n",
    "              )\n",
    "            ])"
   ]
  },
  {
   "cell_type": "code",
   "execution_count": 13,
   "metadata": {},
   "outputs": [
    {
     "name": "stdout",
     "output_type": "stream",
     "text": [
      "Predicting model - random\n",
      "99/99 [==============================] - 2s 23ms/step\n",
      "2/2 [==============================] - 0s 16ms/step\n",
      "Predicting model - select\n",
      "99/99 [==============================] - 2s 22ms/step\n",
      "2/2 [==============================] - 0s 16ms/step\n"
     ]
    }
   ],
   "source": [
    "# Get evaluation after retraining\n",
    "predictions['random']['after'] = {}\n",
    "predictions['select']['after'] = {}\n",
    "\n",
    "print(\"Predicting model - random\")\n",
    "predictions['random']['after']['100'] = model_random.predict(np.array(list(test_data_100[0])), batch_size=2048, verbose=1).squeeze()\n",
    "predictions['random']['after']['1'] = model_random.predict(np.array(list(test_data_1[0])), batch_size=2048, verbose=1).squeeze()\n",
    "\n",
    "print(\"Predicting model - select\")\n",
    "predictions['select']['after']['100'] = model.predict(np.array(list(test_data_100[0])), batch_size=2048, verbose=1).squeeze()\n",
    "predictions['select']['after']['1'] = model.predict(np.array(list(test_data_1[0])), batch_size=2048, verbose=1).squeeze()"
   ]
  },
  {
   "cell_type": "code",
   "execution_count": 26,
   "metadata": {},
   "outputs": [
    {
     "data": {
      "image/png": "[encoded data removed]",
      "text/plain": [
       "<Figure size 1080x360 with 2 Axes>"
      ]
     },
     "metadata": {
      "needs_background": "light"
     },
     "output_type": "display_data"
    }
   ],
   "source": [
    "from sklearn.metrics import PrecisionRecallDisplay\n",
    "import matplotlib.pyplot as plt\n",
    "\n",
    "f, ax = plt.subplots(1, 2, figsize=(15,5))\n",
    "\n",
    "f.suptitle(\"Precision-Recall curve | IH > 0.9\", fontsize=16)\n",
    "y_true = np.array(list(test_data_100[1]))\n",
    "_ = PrecisionRecallDisplay.from_predictions(y_true, predictions['random']['before']['100'], ax=ax[0], name = \"random before\", marker=\"x\", markersize=1, linestyle='--')\n",
    "_ = PrecisionRecallDisplay.from_predictions(y_true, predictions['select']['before']['100'], ax=ax[0], name = \"IH before\", marker=\",\", markersize=0, linestyle='--')\n",
    "_ = PrecisionRecallDisplay.from_predictions(y_true, predictions['random']['after']['100'], ax=ax[0], name = \"random after\", marker=\"X\", markersize=0, linestyle='--')\n",
    "_ = PrecisionRecallDisplay.from_predictions(y_true, predictions['select']['after']['100'], ax=ax[0], name = \"IH after\", marker=\".\", markersize=0, linestyle='--')\n",
    "_ = ax[0].set_title(f\"1:100 ratio\")\n",
    "\n",
    "y_true = np.array(list(test_data_1[1]))\n",
    "_ = PrecisionRecallDisplay.from_predictions(y_true, predictions['random']['before']['1'], ax=ax[1], name = \"random before\", marker=\"x\", markersize=1, linestyle='--')\n",
    "_ = PrecisionRecallDisplay.from_predictions(y_true, predictions['select']['before']['1'], ax=ax[1], name = \"IH before\", marker=\",\", markersize=0, linestyle='--')\n",
    "_ = PrecisionRecallDisplay.from_predictions(y_true, predictions['random']['after']['1'], ax=ax[1], name = \"random after\", marker=\"X\", markersize=0, linestyle='--')\n",
    "_ = PrecisionRecallDisplay.from_predictions(y_true, predictions['select']['after']['1'], ax=ax[1], name = \"IH after\", marker=\".\", markersize=0, linestyle='--')\n",
    "_ = ax[1].set_title(f\"1:1 ratio\")\n"
   ]
  },
  {
   "cell_type": "markdown",
   "metadata": {},
   "source": [
    "#### Hardness (0.6, 0.9)"
   ]
  },
  {
   "cell_type": "markdown",
   "metadata": {},
   "source": [
    "##### Generating training datasets\n",
    "\n",
    "Since a preprocessing pipeline from csv exists, we will generate training CSVs,"
   ]
  },
  {
   "cell_type": "code",
   "execution_count": 7,
   "metadata": {},
   "outputs": [
    {
     "name": "stdout",
     "output_type": "stream",
     "text": [
      "Number of positive samples is 15392\n"
     ]
    }
   ],
   "source": [
    "num_positive = len(df[df['label'] == 1])\n",
    "print(\"Number of positive samples is\", num_positive)"
   ]
  },
  {
   "cell_type": "code",
   "execution_count": 8,
   "metadata": {},
   "outputs": [
    {
     "data": {
      "text/html": [
       "<div>\n",
       "<style scoped>\n",
       "    .dataframe tbody tr th:only-of-type {\n",
       "        vertical-align: middle;\n",
       "    }\n",
       "\n",
       "    .dataframe tbody tr th {\n",
       "        vertical-align: top;\n",
       "    }\n",
       "\n",
       "    .dataframe thead th {\n",
       "        text-align: right;\n",
       "    }\n",
       "</style>\n",
       "<table border=\"1\" class=\"dataframe\">\n",
       "  <thead>\n",
       "    <tr style=\"text-align: right;\">\n",
       "      <th></th>\n",
       "      <th>miRNA</th>\n",
       "      <th>gene</th>\n",
       "      <th>label</th>\n",
       "    </tr>\n",
       "  </thead>\n",
       "  <tbody>\n",
       "    <tr>\n",
       "      <th>0</th>\n",
       "      <td>TAGCAGCACGTAAATATTGG</td>\n",
       "      <td>GCATCATCCCGCGTCATCTCCAACTGGCCATCCGCAACGACGAGGA...</td>\n",
       "      <td>0</td>\n",
       "    </tr>\n",
       "    <tr>\n",
       "      <th>1</th>\n",
       "      <td>TACCCTGTAGATCCGAATTT</td>\n",
       "      <td>CAGGGGACCGAGTCTGACAAACACAATACATTTATCTGTGACCTAT...</td>\n",
       "      <td>0</td>\n",
       "    </tr>\n",
       "    <tr>\n",
       "      <th>2</th>\n",
       "      <td>AAGCCCTTACCCCAAAAAGT</td>\n",
       "      <td>GCATGGCTGCAGGGTGGACCAGCTGCCTGGCATTCAGGCCCAGATG...</td>\n",
       "      <td>0</td>\n",
       "    </tr>\n",
       "    <tr>\n",
       "      <th>3</th>\n",
       "      <td>CGGCGGGGACGGCGATTGGT</td>\n",
       "      <td>GCAGGGACTCCTAGGGGCCCAGTAAGGACAGTGCCCGCCAGGGACC...</td>\n",
       "      <td>0</td>\n",
       "    </tr>\n",
       "    <tr>\n",
       "      <th>4</th>\n",
       "      <td>CAAAGTGCTTACAGTGCAGG</td>\n",
       "      <td>CATTGCTGAGTGCCTGGCAGATGAGCTCATCAATGCTGCCAAGGGC...</td>\n",
       "      <td>0</td>\n",
       "    </tr>\n",
       "    <tr>\n",
       "      <th>...</th>\n",
       "      <td>...</td>\n",
       "      <td>...</td>\n",
       "      <td>...</td>\n",
       "    </tr>\n",
       "    <tr>\n",
       "      <th>30779</th>\n",
       "      <td>GCAAAGCACACGGCCTGCAG</td>\n",
       "      <td>ATTGTCCTCTGCTTTATTTAGCTTAGAAAATCATTCCTTTTTTTTT...</td>\n",
       "      <td>1</td>\n",
       "    </tr>\n",
       "    <tr>\n",
       "      <th>30780</th>\n",
       "      <td>TATTGCACTTGTCCCGGCCT</td>\n",
       "      <td>CAATTTATAAATTTATATCTAAAGGGGAATCATGATTATAAGTCCT...</td>\n",
       "      <td>1</td>\n",
       "    </tr>\n",
       "    <tr>\n",
       "      <th>30781</th>\n",
       "      <td>TGAGGGGCAGAGAGCGAGAC</td>\n",
       "      <td>CGCTCCAGCAGCTCTGCCCAACCGCAGCCTCGCCGTGGCGGGAGGC...</td>\n",
       "      <td>1</td>\n",
       "    </tr>\n",
       "    <tr>\n",
       "      <th>30782</th>\n",
       "      <td>AACTGGCCCTCAAAGTCCCG</td>\n",
       "      <td>CAGAAAGCGGGGAGAAGCCAGAGTTCTTGGCTCAGGACTGAAGGGA...</td>\n",
       "      <td>1</td>\n",
       "    </tr>\n",
       "    <tr>\n",
       "      <th>30783</th>\n",
       "      <td>TACCCTGTAGATCCGAATTT</td>\n",
       "      <td>GAAGGTTCGGATCCGGGATGCCTTGCGCAGTATCCTCACCATATCT...</td>\n",
       "      <td>1</td>\n",
       "    </tr>\n",
       "  </tbody>\n",
       "</table>\n",
       "<p>30784 rows × 3 columns</p>\n",
       "</div>"
      ],
      "text/plain": [
       "                      miRNA  \\\n",
       "0      TAGCAGCACGTAAATATTGG   \n",
       "1      TACCCTGTAGATCCGAATTT   \n",
       "2      AAGCCCTTACCCCAAAAAGT   \n",
       "3      CGGCGGGGACGGCGATTGGT   \n",
       "4      CAAAGTGCTTACAGTGCAGG   \n",
       "...                     ...   \n",
       "30779  GCAAAGCACACGGCCTGCAG   \n",
       "30780  TATTGCACTTGTCCCGGCCT   \n",
       "30781  TGAGGGGCAGAGAGCGAGAC   \n",
       "30782  AACTGGCCCTCAAAGTCCCG   \n",
       "30783  TACCCTGTAGATCCGAATTT   \n",
       "\n",
       "                                                    gene  label  \n",
       "0      GCATCATCCCGCGTCATCTCCAACTGGCCATCCGCAACGACGAGGA...      0  \n",
       "1      CAGGGGACCGAGTCTGACAAACACAATACATTTATCTGTGACCTAT...      0  \n",
       "2      GCATGGCTGCAGGGTGGACCAGCTGCCTGGCATTCAGGCCCAGATG...      0  \n",
       "3      GCAGGGACTCCTAGGGGCCCAGTAAGGACAGTGCCCGCCAGGGACC...      0  \n",
       "4      CATTGCTGAGTGCCTGGCAGATGAGCTCATCAATGCTGCCAAGGGC...      0  \n",
       "...                                                  ...    ...  \n",
       "30779  ATTGTCCTCTGCTTTATTTAGCTTAGAAAATCATTCCTTTTTTTTT...      1  \n",
       "30780  CAATTTATAAATTTATATCTAAAGGGGAATCATGATTATAAGTCCT...      1  \n",
       "30781  CGCTCCAGCAGCTCTGCCCAACCGCAGCCTCGCCGTGGCGGGAGGC...      1  \n",
       "30782  CAGAAAGCGGGGAGAAGCCAGAGTTCTTGGCTCAGGACTGAAGGGA...      1  \n",
       "30783  GAAGGTTCGGATCCGGGATGCCTTGCGCAGTATCCTCACCATATCT...      1  \n",
       "\n",
       "[30784 rows x 3 columns]"
      ]
     },
     "execution_count": 8,
     "metadata": {},
     "output_type": "execute_result"
    }
   ],
   "source": [
    "df_ = pd.concat([\n",
    "    df[(df['hardness'] < 0.9) & (df['hardness'] > 0.6) & (df['label'] == 0)].sample(n=num_positive),\n",
    "    df[df['label'] == 1].sample(frac=1.)\n",
    "    ], axis=0)[['miRNA', 'gene', 'label']]\n",
    "df_.reset_index(inplace=True)\n",
    "del df_['index']\n",
    "df_"
   ]
  },
  {
   "cell_type": "code",
   "execution_count": 10,
   "metadata": {},
   "outputs": [],
   "source": [
    "df_.to_csv(f\"{base_dir}/train_1_1_60_90.csv\", index=False)"
   ]
  },
  {
   "cell_type": "markdown",
   "metadata": {},
   "source": [
    "##### Training models\n",
    "\n",
    "1. model is retrained on `train_1_1_60_90.csv` which contains hard negative instances and all positive instances in ratio 1:1\n",
    "2. model is trained on randomly sampled data with ratio 1:1"
   ]
  },
  {
   "cell_type": "code",
   "execution_count": 11,
   "metadata": {},
   "outputs": [],
   "source": [
    "base_dir = \"master_thesis/datasets\"\n",
    "train_dataset_random = get_dataset(f\"{base_dir}/train_1_1_random.csv\", batch_size=1024)\n",
    "train_dataset = get_dataset(f\"{base_dir}/train_1_1_60_90.csv\", batch_size=1024)\n",
    "val_dataset = get_dataset(f\"{base_dir}/evaluation_set_CLASH2013_paper.tsv\", batch_size=1024, field_delim=\"\\t\")"
   ]
  },
  {
   "cell_type": "markdown",
   "metadata": {},
   "source": [
    "Let's encode test dataset separately, to get labels more easily."
   ]
  },
  {
   "cell_type": "code",
   "execution_count": 12,
   "metadata": {},
   "outputs": [],
   "source": [
    "def encode_and_label(row):\n",
    "    return encode_ohe_matrix_2d(row['miRNA'], row['gene']), row['label']"
   ]
  },
  {
   "cell_type": "code",
   "execution_count": 13,
   "metadata": {},
   "outputs": [
    {
     "data": {
      "application/vnd.jupyter.widget-view+json": {
       "model_id": "faab52f8352d4cd9bf7207e407bb9db5",
       "version_major": 2,
       "version_minor": 0
      },
      "text/plain": [
       "Encoding test data 1:100:   0%|          | 0/202000 [00:00<?, ?it/s]"
      ]
     },
     "metadata": {},
     "output_type": "display_data"
    },
    {
     "data": {
      "application/vnd.jupyter.widget-view+json": {
       "model_id": "bd65c06444dd4994b5e23a18a62c6868",
       "version_major": 2,
       "version_minor": 0
      },
      "text/plain": [
       "Encoding test data 1:1:   0%|          | 0/4000 [00:00<?, ?it/s]"
      ]
     },
     "metadata": {},
     "output_type": "display_data"
    }
   ],
   "source": [
    "from tqdm.notebook import tqdm\n",
    "\n",
    "test_df_100 = pd.read_csv(f\"{base_dir}/test_set_1_100_CLASH2013_paper.tsv\", sep=\"\\t\").sample(frac=1.)\n",
    "test_df_1 = pd.read_csv(f\"{base_dir}/test_set_CLASH2013_paper.tsv\", sep=\"\\t\").sample(frac=1.)\n",
    "\n",
    "tqdm.pandas(desc=\"Encoding test data 1:100\")\n",
    "test_data_100 = test_df_100[['miRNA', 'gene', 'label']].progress_apply(encode_and_label, axis=1, result_type='expand')\n",
    "\n",
    "tqdm.pandas(desc=\"Encoding test data 1:1\")\n",
    "test_data_1 = test_df_1[['miRNA', 'gene', 'label']].progress_apply(encode_and_label, axis=1, result_type='expand')"
   ]
  },
  {
   "cell_type": "code",
   "execution_count": 14,
   "metadata": {},
   "outputs": [
    {
     "name": "stdout",
     "output_type": "stream",
     "text": [
      "Models loaded\n"
     ]
    }
   ],
   "source": [
    "# Load \"base\" models\n",
    "model_random = tf.keras.models.load_model(f'master_thesis/models/1_1_basic_training_shuffle/model_1.h5')\n",
    "model = tf.keras.models.load_model(f'master_thesis/models/1_1_basic_training_shuffle/model_1.h5')\n",
    "\n",
    "print(\"Models loaded\")"
   ]
  },
  {
   "cell_type": "code",
   "execution_count": 15,
   "metadata": {},
   "outputs": [
    {
     "name": "stdout",
     "output_type": "stream",
     "text": [
      "\n",
      "Predicting model - random\n",
      "99/99 [==============================] - 8s 25ms/step\n",
      "2/2 [==============================] - 0s 328ms/step\n",
      "\n",
      "Predicting model - select\n",
      "99/99 [==============================] - 2s 23ms/step\n",
      "2/2 [==============================] - 0s 31ms/step\n"
     ]
    }
   ],
   "source": [
    "predictions = {}\n",
    "\n",
    "predictions['random'] = {}\n",
    "predictions['select'] = {}\n",
    "\n",
    "# Get evaluation before retraining\n",
    "predictions['random']['before'] = {}\n",
    "predictions['select']['before'] = {}\n",
    "\n",
    "print(\"\\nPredicting model - random\")\n",
    "predictions['random']['before']['100'] = model_random.predict(np.array(list(test_data_100[0])), batch_size=2048, verbose=1).squeeze()\n",
    "predictions['random']['before']['1'] = model_random.predict(np.array(list(test_data_1[0])), batch_size=2048, verbose=1).squeeze()\n",
    "\n",
    "print(\"\\nPredicting model - select\")\n",
    "predictions['select']['before']['100'] = model.predict(np.array(list(test_data_100[0])), batch_size=2048, verbose=1).squeeze()\n",
    "predictions['select']['before']['1'] = model.predict(np.array(list(test_data_1[0])), batch_size=2048, verbose=1).squeeze()"
   ]
  },
  {
   "cell_type": "code",
   "execution_count": 16,
   "metadata": {},
   "outputs": [
    {
     "name": "stdout",
     "output_type": "stream",
     "text": [
      "Restoring model weights from the end of the best epoch.\n",
      "Epoch 00035: early stopping\n"
     ]
    }
   ],
   "source": [
    "history = model.fit(x=train_dataset, \n",
    "            validation_data=val_dataset, \n",
    "            verbose=0,\n",
    "            epochs=100,\n",
    "            # batch_size=batch_size,\n",
    "            # steps_per_epoch=1000,\n",
    "            callbacks=[\n",
    "              tf.keras.callbacks.EarlyStopping(\n",
    "                monitor=\"val_loss\",\n",
    "                min_delta=0.05,\n",
    "                patience=25,\n",
    "                verbose=1,\n",
    "                mode=\"min\",\n",
    "                baseline=None,\n",
    "                restore_best_weights=True,\n",
    "              ), \n",
    "              tf.keras.callbacks.ModelCheckpoint(\n",
    "                f\"./model_1_retrained_select.h5\", \n",
    "                save_best_only=True, \n",
    "                verbose=0\n",
    "              )\n",
    "            ])"
   ]
  },
  {
   "cell_type": "code",
   "execution_count": 17,
   "metadata": {},
   "outputs": [
    {
     "name": "stdout",
     "output_type": "stream",
     "text": [
      "Restoring model weights from the end of the best epoch.\n",
      "Epoch 00033: early stopping\n"
     ]
    }
   ],
   "source": [
    "history = model_random.fit(x=train_dataset_random, \n",
    "            validation_data=val_dataset, \n",
    "            verbose=0,\n",
    "            epochs=100,\n",
    "            # batch_size=batch_size,\n",
    "            # steps_per_epoch=1000,\n",
    "            callbacks=[\n",
    "              tf.keras.callbacks.EarlyStopping(\n",
    "                monitor=\"val_loss\",\n",
    "                min_delta=0.05,\n",
    "                patience=25,\n",
    "                verbose=1,\n",
    "                mode=\"min\",\n",
    "                baseline=None,\n",
    "                restore_best_weights=True,\n",
    "              ), \n",
    "              tf.keras.callbacks.ModelCheckpoint(\n",
    "                f\"./model_1_retrained_random.h5\", \n",
    "                save_best_only=True, \n",
    "                verbose=0\n",
    "              )\n",
    "            ])"
   ]
  },
  {
   "cell_type": "code",
   "execution_count": 18,
   "metadata": {},
   "outputs": [
    {
     "name": "stdout",
     "output_type": "stream",
     "text": [
      "Predicting model - random\n",
      "99/99 [==============================] - 2s 23ms/step\n",
      "2/2 [==============================] - 0s 16ms/step\n",
      "Predicting model - select\n",
      "99/99 [==============================] - 2s 23ms/step\n",
      "2/2 [==============================] - 0s 31ms/step\n"
     ]
    }
   ],
   "source": [
    "# Get evaluation after retraining\n",
    "predictions['random']['after'] = {}\n",
    "predictions['select']['after'] = {}\n",
    "\n",
    "print(\"Predicting model - random\")\n",
    "predictions['random']['after']['100'] = model_random.predict(np.array(list(test_data_100[0])), batch_size=2048, verbose=1).squeeze()\n",
    "predictions['random']['after']['1'] = model_random.predict(np.array(list(test_data_1[0])), batch_size=2048, verbose=1).squeeze()\n",
    "\n",
    "print(\"Predicting model - select\")\n",
    "predictions['select']['after']['100'] = model.predict(np.array(list(test_data_100[0])), batch_size=2048, verbose=1).squeeze()\n",
    "predictions['select']['after']['1'] = model.predict(np.array(list(test_data_1[0])), batch_size=2048, verbose=1).squeeze()"
   ]
  },
  {
   "cell_type": "code",
   "execution_count": 23,
   "metadata": {},
   "outputs": [
    {
     "data": {
      "image/png": "[encoded data removed]",
      "text/plain": [
       "<Figure size 1080x360 with 2 Axes>"
      ]
     },
     "metadata": {
      "needs_background": "light"
     },
     "output_type": "display_data"
    }
   ],
   "source": [
    "from sklearn.metrics import PrecisionRecallDisplay\n",
    "import matplotlib.pyplot as plt\n",
    "\n",
    "f, ax = plt.subplots(1, 2, figsize=(15,5))\n",
    "\n",
    "f.suptitle(\"Precision-Recall curve | 0.6 < IH < 0.9\", fontsize=16)\n",
    "y_true = np.array(list(test_data_100[1]))\n",
    "_ = PrecisionRecallDisplay.from_predictions(y_true, predictions['random']['before']['100'], ax=ax[0], name = \"baseline\", linestyle='--')\n",
    "_ = PrecisionRecallDisplay.from_predictions(y_true, predictions['random']['after']['100'], ax=ax[0], name = \"random\", linestyle='--')\n",
    "_ = PrecisionRecallDisplay.from_predictions(y_true, predictions['select']['after']['100'], ax=ax[0], name = \"IH\", linestyle='--')\n",
    "_ = ax[0].set_title(f\"1:100 ratio\")\n",
    "\n",
    "y_true = np.array(list(test_data_1[1]))\n",
    "_ = PrecisionRecallDisplay.from_predictions(y_true, predictions['random']['before']['1'], ax=ax[1], name = \"baseline\", linestyle='--')\n",
    "_ = PrecisionRecallDisplay.from_predictions(y_true, predictions['random']['after']['1'], ax=ax[1], name = \"random\", linestyle='--')\n",
    "_ = PrecisionRecallDisplay.from_predictions(y_true, predictions['select']['after']['1'], ax=ax[1], name = \"IH\", linestyle='--')\n",
    "_ = ax[1].set_title(f\"1:1 ratio\")\n"
   ]
  },
  {
   "cell_type": "code",
   "execution_count": null,
   "metadata": {},
   "outputs": [],
   "source": []
  },
  {
   "cell_type": "markdown",
   "metadata": {},
   "source": [
    "#### Hardness (0.6, 0.9) easy start\n",
    "\n",
    "In this experiment we will train the base network on \"easy\" samples (IH < 0.5), then retrain it on hard ones (0.6 < IH < 0.9)."
   ]
  },
  {
   "cell_type": "markdown",
   "metadata": {},
   "source": [
    "##### Generating training datasets\n",
    "\n",
    "Since a preprocessing pipeline from csv exists, we will generate training CSVs,"
   ]
  },
  {
   "cell_type": "code",
   "execution_count": 24,
   "metadata": {},
   "outputs": [
    {
     "name": "stdout",
     "output_type": "stream",
     "text": [
      "Number of positive samples is 15392\n"
     ]
    }
   ],
   "source": [
    "num_positive = len(df[df['label'] == 1])\n",
    "print(\"Number of positive samples is\", num_positive)"
   ]
  },
  {
   "cell_type": "code",
   "execution_count": 25,
   "metadata": {},
   "outputs": [
    {
     "data": {
      "text/html": [
       "<div>\n",
       "<style scoped>\n",
       "    .dataframe tbody tr th:only-of-type {\n",
       "        vertical-align: middle;\n",
       "    }\n",
       "\n",
       "    .dataframe tbody tr th {\n",
       "        vertical-align: top;\n",
       "    }\n",
       "\n",
       "    .dataframe thead th {\n",
       "        text-align: right;\n",
       "    }\n",
       "</style>\n",
       "<table border=\"1\" class=\"dataframe\">\n",
       "  <thead>\n",
       "    <tr style=\"text-align: right;\">\n",
       "      <th></th>\n",
       "      <th>miRNA</th>\n",
       "      <th>gene</th>\n",
       "      <th>label</th>\n",
       "    </tr>\n",
       "  </thead>\n",
       "  <tbody>\n",
       "    <tr>\n",
       "      <th>0</th>\n",
       "      <td>CAGTGCAATAGTATTGTCAA</td>\n",
       "      <td>AGATCCTGAGGGCCAGCCGGGAAGGAGGCGTGGATATGGAGCTGGC...</td>\n",
       "      <td>0</td>\n",
       "    </tr>\n",
       "    <tr>\n",
       "      <th>1</th>\n",
       "      <td>TGTCTGCCCGCATGCCTGCC</td>\n",
       "      <td>GTCAAGGAGGAGGAGACGGAGGCTGCCATTGGAGCCCCTCCTACTG...</td>\n",
       "      <td>0</td>\n",
       "    </tr>\n",
       "    <tr>\n",
       "      <th>2</th>\n",
       "      <td>TGGGTCTTTGCGGGCGAGAT</td>\n",
       "      <td>GCGTCATGGTGGGCATGGGCCAGAAGGACTCCTACGTGGGCGACGA...</td>\n",
       "      <td>0</td>\n",
       "    </tr>\n",
       "    <tr>\n",
       "      <th>3</th>\n",
       "      <td>CAACGGAATCCCAAAAGCAG</td>\n",
       "      <td>ACCTGCTCTACCTGCCAGAAATTTTAAAACAAAAACAAAAACAAAA...</td>\n",
       "      <td>0</td>\n",
       "    </tr>\n",
       "    <tr>\n",
       "      <th>4</th>\n",
       "      <td>CCGCACTGTGGGTACTTGCT</td>\n",
       "      <td>AGCAGCCGGGACTGCAGGCACAAGCCACCATGCCTGGCTGTTTTTT...</td>\n",
       "      <td>0</td>\n",
       "    </tr>\n",
       "    <tr>\n",
       "      <th>...</th>\n",
       "      <td>...</td>\n",
       "      <td>...</td>\n",
       "      <td>...</td>\n",
       "    </tr>\n",
       "    <tr>\n",
       "      <th>30779</th>\n",
       "      <td>TGCGGGGCTAGGGCTAACAG</td>\n",
       "      <td>CAGTTCTGCTCATGCCCAATGGCCCCATGCGGATAACCAGTGGTCC...</td>\n",
       "      <td>1</td>\n",
       "    </tr>\n",
       "    <tr>\n",
       "      <th>30780</th>\n",
       "      <td>ACTGGACTTGGAGTCAGAAG</td>\n",
       "      <td>GTGCCTCTGCCCATTGTCCATGATTTACACTAATTGTGAGCAGTCT...</td>\n",
       "      <td>1</td>\n",
       "    </tr>\n",
       "    <tr>\n",
       "      <th>30781</th>\n",
       "      <td>TCAGGCTCAGTCCCCTCCCG</td>\n",
       "      <td>CCAAGGACGGGACGGGATGGGCAAACAAGCAGGATCAGCAAGACCC...</td>\n",
       "      <td>1</td>\n",
       "    </tr>\n",
       "    <tr>\n",
       "      <th>30782</th>\n",
       "      <td>ACTCCAGCCCCACAGCCTCA</td>\n",
       "      <td>AACCACATGGGCTGGGGGCCAGGGCTGGATGGACAGACACCTCCCC...</td>\n",
       "      <td>1</td>\n",
       "    </tr>\n",
       "    <tr>\n",
       "      <th>30783</th>\n",
       "      <td>TCAGGCTCAGTCCCCTCCCG</td>\n",
       "      <td>TAGGGGTCAAGGGACTGGTCGGCCAGGACAACCACCAGGCCCCAAA...</td>\n",
       "      <td>1</td>\n",
       "    </tr>\n",
       "  </tbody>\n",
       "</table>\n",
       "<p>30784 rows × 3 columns</p>\n",
       "</div>"
      ],
      "text/plain": [
       "                      miRNA  \\\n",
       "0      CAGTGCAATAGTATTGTCAA   \n",
       "1      TGTCTGCCCGCATGCCTGCC   \n",
       "2      TGGGTCTTTGCGGGCGAGAT   \n",
       "3      CAACGGAATCCCAAAAGCAG   \n",
       "4      CCGCACTGTGGGTACTTGCT   \n",
       "...                     ...   \n",
       "30779  TGCGGGGCTAGGGCTAACAG   \n",
       "30780  ACTGGACTTGGAGTCAGAAG   \n",
       "30781  TCAGGCTCAGTCCCCTCCCG   \n",
       "30782  ACTCCAGCCCCACAGCCTCA   \n",
       "30783  TCAGGCTCAGTCCCCTCCCG   \n",
       "\n",
       "                                                    gene  label  \n",
       "0      AGATCCTGAGGGCCAGCCGGGAAGGAGGCGTGGATATGGAGCTGGC...      0  \n",
       "1      GTCAAGGAGGAGGAGACGGAGGCTGCCATTGGAGCCCCTCCTACTG...      0  \n",
       "2      GCGTCATGGTGGGCATGGGCCAGAAGGACTCCTACGTGGGCGACGA...      0  \n",
       "3      ACCTGCTCTACCTGCCAGAAATTTTAAAACAAAAACAAAAACAAAA...      0  \n",
       "4      AGCAGCCGGGACTGCAGGCACAAGCCACCATGCCTGGCTGTTTTTT...      0  \n",
       "...                                                  ...    ...  \n",
       "30779  CAGTTCTGCTCATGCCCAATGGCCCCATGCGGATAACCAGTGGTCC...      1  \n",
       "30780  GTGCCTCTGCCCATTGTCCATGATTTACACTAATTGTGAGCAGTCT...      1  \n",
       "30781  CCAAGGACGGGACGGGATGGGCAAACAAGCAGGATCAGCAAGACCC...      1  \n",
       "30782  AACCACATGGGCTGGGGGCCAGGGCTGGATGGACAGACACCTCCCC...      1  \n",
       "30783  TAGGGGTCAAGGGACTGGTCGGCCAGGACAACCACCAGGCCCCAAA...      1  \n",
       "\n",
       "[30784 rows x 3 columns]"
      ]
     },
     "execution_count": 25,
     "metadata": {},
     "output_type": "execute_result"
    }
   ],
   "source": [
    "df_ = pd.concat([\n",
    "    df[(df['hardness'] < 0.5) & (df['label'] == 0)].sample(n=num_positive),\n",
    "    df[df['label'] == 1].sample(frac=1.)\n",
    "    ], axis=0)[['miRNA', 'gene', 'label']]\n",
    "df_.reset_index(inplace=True)\n",
    "del df_['index']\n",
    "\n",
    "df_.to_csv(f\"{base_dir}/train_1_1_lt_50.csv\", index=False)\n",
    "\n",
    "df_"
   ]
  },
  {
   "cell_type": "markdown",
   "metadata": {},
   "source": [
    "##### Training models\n",
    "\n",
    "Train a new baseline model on the \"easy\" dataset.\n",
    "\n",
    "1. model is retrained on `train_1_1_60_90.csv` which contains hard negative instances and all positive instances in ratio 1:1\n",
    "2. model is trained on randomly sampled data with ratio 1:1"
   ]
  },
  {
   "cell_type": "code",
   "execution_count": 26,
   "metadata": {},
   "outputs": [],
   "source": [
    "base_dir = \"master_thesis/datasets\"\n",
    "\n",
    "train_dataset_easy = get_dataset(f\"{base_dir}/train_1_1_lt_50.csv\", batch_size=1024)\n",
    "train_dataset_random = get_dataset(f\"{base_dir}/train_1_1_random.csv\", batch_size=1024)\n",
    "train_dataset = get_dataset(f\"{base_dir}/train_1_1_60_90.csv\", batch_size=1024)\n",
    "\n",
    "# We will use just one validation dataset\n",
    "val_dataset = get_dataset(f\"{base_dir}/evaluation_set_CLASH2013_paper.tsv\", batch_size=1024, field_delim=\"\\t\")"
   ]
  },
  {
   "cell_type": "markdown",
   "metadata": {},
   "source": [
    "Let's encode test dataset separately, to get labels more easily."
   ]
  },
  {
   "cell_type": "code",
   "execution_count": 27,
   "metadata": {},
   "outputs": [],
   "source": [
    "def encode_and_label(row):\n",
    "    return encode_ohe_matrix_2d(row['miRNA'], row['gene']), row['label']"
   ]
  },
  {
   "cell_type": "code",
   "execution_count": 28,
   "metadata": {},
   "outputs": [
    {
     "data": {
      "application/vnd.jupyter.widget-view+json": {
       "model_id": "6fe0bf58a7da45a6a3f4bed8ff7e975a",
       "version_major": 2,
       "version_minor": 0
      },
      "text/plain": [
       "Encoding test data 1:100:   0%|          | 0/202000 [00:00<?, ?it/s]"
      ]
     },
     "metadata": {},
     "output_type": "display_data"
    },
    {
     "data": {
      "application/vnd.jupyter.widget-view+json": {
       "model_id": "eff7b82c25fd48cab1b982dc85470c6c",
       "version_major": 2,
       "version_minor": 0
      },
      "text/plain": [
       "Encoding test data 1:1:   0%|          | 0/4000 [00:00<?, ?it/s]"
      ]
     },
     "metadata": {},
     "output_type": "display_data"
    }
   ],
   "source": [
    "from tqdm.notebook import tqdm\n",
    "\n",
    "test_df_100 = pd.read_csv(f\"{base_dir}/test_set_1_100_CLASH2013_paper.tsv\", sep=\"\\t\").sample(frac=1.)\n",
    "test_df_1 = pd.read_csv(f\"{base_dir}/test_set_CLASH2013_paper.tsv\", sep=\"\\t\").sample(frac=1.)\n",
    "\n",
    "tqdm.pandas(desc=\"Encoding test data 1:100\")\n",
    "test_data_100 = test_df_100[['miRNA', 'gene', 'label']].progress_apply(encode_and_label, axis=1, result_type='expand')\n",
    "\n",
    "tqdm.pandas(desc=\"Encoding test data 1:1\")\n",
    "test_data_1 = test_df_1[['miRNA', 'gene', 'label']].progress_apply(encode_and_label, axis=1, result_type='expand')"
   ]
  },
  {
   "cell_type": "markdown",
   "metadata": {},
   "source": [
    "Create new baseline model"
   ]
  },
  {
   "cell_type": "code",
   "execution_count": 29,
   "metadata": {},
   "outputs": [],
   "source": [
    "from tensorflow.keras import layers\n",
    "\n",
    "def create_model(sample_shape=(50,20,1), **kwargs):\n",
    "    DATA_FORMAT = \"channels_last\"\n",
    "\n",
    "    main_input = layers.Input(shape=sample_shape,\n",
    "                              dtype='float32', \n",
    "                              # name='main_input'\n",
    "                        )\n",
    "\n",
    "    x = layers.Conv2D(\n",
    "        filters=32,\n",
    "        kernel_size=(3, 3),\n",
    "        padding=\"same\",\n",
    "        data_format=DATA_FORMAT,\n",
    "        # name=\"conv_1\"\n",
    "        )(main_input)    \n",
    "    x = layers.LeakyReLU()(x)\n",
    "    x = layers.BatchNormalization()(x)\n",
    "    x = layers.MaxPooling2D(pool_size=(2, 2),strides=None, \n",
    "                            # name='Max_1', \n",
    "                            data_format=DATA_FORMAT)(x)\n",
    "    x = layers.Dropout(rate = 0.10)(x)\n",
    "\n",
    "    x = layers.Conv2D(\n",
    "        filters=64,\n",
    "        kernel_size=(3, 3),\n",
    "        padding=\"same\",\n",
    "        data_format=DATA_FORMAT,\n",
    "        # name=\"conv_2\"\n",
    "        )(x)\n",
    "    x = layers.LeakyReLU()(x)\n",
    "    x = layers.BatchNormalization()(x)\n",
    "    x = layers.MaxPooling2D(pool_size=(2, 2), \n",
    "                            # name='Max_2', \n",
    "                            data_format=DATA_FORMAT)(x)\n",
    "    x = layers.Dropout(rate = 0.15)(x)\n",
    "\n",
    "    x = layers.Conv2D(\n",
    "        filters=128,\n",
    "        kernel_size=(3, 3),\n",
    "        padding=\"same\",\n",
    "        data_format=DATA_FORMAT,\n",
    "        # name=\"conv_3\"\n",
    "        )(x)\n",
    "    x = layers.LeakyReLU()(x)\n",
    "    x = layers.BatchNormalization()(x)\n",
    "    x = layers.MaxPooling2D(pool_size=(2, 2), \n",
    "                            # name='Max_3', \n",
    "                            data_format=DATA_FORMAT)(x)\n",
    "    x = layers.Dropout(rate = 0.20)(x)\n",
    "\n",
    "    conv_flat = layers.Flatten(\n",
    "        # name='2d_matrix'\n",
    "        )(x)\n",
    "\n",
    "    x = layers.Dense(128)(conv_flat)\n",
    "    x = layers.LeakyReLU()(x)\n",
    "    x = layers.BatchNormalization()(x)\n",
    "    x = layers.Dropout(rate = 0.20)(x)\n",
    "\n",
    "    x = layers.Dense(64)(x)\n",
    "    x = layers.LeakyReLU()(x)\n",
    "    x = layers.BatchNormalization()(x)\n",
    "    x = layers.Dropout(rate = 0.15)(x)\n",
    "\n",
    "    x = layers.Dense(32)(x)\n",
    "    x = layers.LeakyReLU()(x)\n",
    "    x = layers.BatchNormalization()(x)\n",
    "    x = layers.Dropout(rate = 0.10)(x)\n",
    "\n",
    "    main_output = layers.Dense(1, activation='sigmoid', \n",
    "                              #  name='main_output'\n",
    "                               )(x)\n",
    "\n",
    "    model = tf.keras.models.Model(inputs=[main_input], outputs=[main_output], **kwargs)\n",
    "    \n",
    "    return model"
   ]
  },
  {
   "cell_type": "code",
   "execution_count": 30,
   "metadata": {},
   "outputs": [
    {
     "name": "stdout",
     "output_type": "stream",
     "text": [
      "Models loaded\n"
     ]
    }
   ],
   "source": [
    "# Load \"base\" models\n",
    "model_random = tf.keras.models.load_model(f'master_thesis/models/1_1_basic_training_shuffle/model_1.h5')\n",
    "model = create_model()\n",
    "\n",
    "print(\"Models loaded\")"
   ]
  },
  {
   "cell_type": "code",
   "execution_count": 31,
   "metadata": {},
   "outputs": [
    {
     "name": "stdout",
     "output_type": "stream",
     "text": [
      "Restoring model weights from the end of the best epoch.\n",
      "Epoch 00044: early stopping\n"
     ]
    }
   ],
   "source": [
    "model.compile(**{\n",
    "      \"optimizer\": tf.keras.optimizers.Adam(name=\"adam\"),\n",
    "      \"loss\": tf.keras.losses.BinaryCrossentropy(),\n",
    "      # \"loss\": tf.keras.losses.CategoricalCrossentropy(),\n",
    "      \"metrics\": [\n",
    "                  # tf.keras.metrics.AUC(name=\"auc\")\n",
    "                  tf.keras.metrics.Precision(name=\"precision\"),\n",
    "                  tf.keras.metrics.Recall(name=\"recall\")\n",
    "                ]\n",
    "  })\n",
    "\n",
    "history = model.fit(x=train_dataset_easy, \n",
    "            validation_data=val_dataset, \n",
    "            verbose=0,\n",
    "            epochs=100,\n",
    "            # batch_size=batch_size,\n",
    "            # steps_per_epoch=1000,\n",
    "            callbacks=[\n",
    "              tf.keras.callbacks.EarlyStopping(\n",
    "                monitor=\"val_loss\",\n",
    "                min_delta=0.05,\n",
    "                patience=25,\n",
    "                verbose=1,\n",
    "                mode=\"min\",\n",
    "                baseline=None,\n",
    "                restore_best_weights=True,\n",
    "              ), \n",
    "              tf.keras.callbacks.ModelCheckpoint(\n",
    "                f\"./model_1_retrained_select_easy_start.h5\", \n",
    "                save_best_only=True, \n",
    "                verbose=0\n",
    "              )\n",
    "            ])"
   ]
  },
  {
   "cell_type": "code",
   "execution_count": 32,
   "metadata": {},
   "outputs": [
    {
     "name": "stdout",
     "output_type": "stream",
     "text": [
      "\n",
      "Predicting model - random\n",
      "99/99 [==============================] - 2s 23ms/step\n",
      "2/2 [==============================] - 0s 16ms/step\n",
      "\n",
      "Predicting model - select\n",
      "99/99 [==============================] - 2s 23ms/step\n",
      "2/2 [==============================] - 0s 16ms/step\n"
     ]
    }
   ],
   "source": [
    "predictions = {}\n",
    "\n",
    "predictions['random'] = {}\n",
    "predictions['select'] = {}\n",
    "\n",
    "# Get evaluation before retraining\n",
    "predictions['random']['before'] = {}\n",
    "predictions['select']['before'] = {}\n",
    "\n",
    "print(\"\\nPredicting model - random\")\n",
    "predictions['random']['before']['100'] = model_random.predict(np.array(list(test_data_100[0])), batch_size=2048, verbose=1).squeeze()\n",
    "predictions['random']['before']['1'] = model_random.predict(np.array(list(test_data_1[0])), batch_size=2048, verbose=1).squeeze()\n",
    "\n",
    "print(\"\\nPredicting model - select\")\n",
    "predictions['select']['before']['100'] = model.predict(np.array(list(test_data_100[0])), batch_size=2048, verbose=1).squeeze()\n",
    "predictions['select']['before']['1'] = model.predict(np.array(list(test_data_1[0])), batch_size=2048, verbose=1).squeeze()"
   ]
  },
  {
   "cell_type": "code",
   "execution_count": 33,
   "metadata": {},
   "outputs": [
    {
     "name": "stdout",
     "output_type": "stream",
     "text": [
      "Restoring model weights from the end of the best epoch.\n",
      "Epoch 00035: early stopping\n"
     ]
    }
   ],
   "source": [
    "history = model.fit(x=train_dataset, \n",
    "            validation_data=val_dataset, \n",
    "            verbose=0,\n",
    "            epochs=100,\n",
    "            # batch_size=batch_size,\n",
    "            # steps_per_epoch=1000,\n",
    "            callbacks=[\n",
    "              tf.keras.callbacks.EarlyStopping(\n",
    "                monitor=\"val_loss\",\n",
    "                min_delta=0.05,\n",
    "                patience=25,\n",
    "                verbose=1,\n",
    "                mode=\"min\",\n",
    "                baseline=None,\n",
    "                restore_best_weights=True,\n",
    "              ), \n",
    "              tf.keras.callbacks.ModelCheckpoint(\n",
    "                f\"./model_1_retrained_select_easy_start.h5\", \n",
    "                save_best_only=True, \n",
    "                verbose=0\n",
    "              )\n",
    "            ])"
   ]
  },
  {
   "cell_type": "code",
   "execution_count": 34,
   "metadata": {},
   "outputs": [
    {
     "name": "stdout",
     "output_type": "stream",
     "text": [
      "Restoring model weights from the end of the best epoch.\n",
      "Epoch 00026: early stopping\n"
     ]
    }
   ],
   "source": [
    "history = model_random.fit(x=train_dataset_random, \n",
    "            validation_data=val_dataset, \n",
    "            verbose=0,\n",
    "            epochs=100,\n",
    "            # batch_size=batch_size,\n",
    "            # steps_per_epoch=1000,\n",
    "            callbacks=[\n",
    "              tf.keras.callbacks.EarlyStopping(\n",
    "                monitor=\"val_loss\",\n",
    "                min_delta=0.05,\n",
    "                patience=25,\n",
    "                verbose=1,\n",
    "                mode=\"min\",\n",
    "                baseline=None,\n",
    "                restore_best_weights=True,\n",
    "              ), \n",
    "              tf.keras.callbacks.ModelCheckpoint(\n",
    "                f\"./model_1_retrained_random.h5\", \n",
    "                save_best_only=True, \n",
    "                verbose=0\n",
    "              )\n",
    "            ])"
   ]
  },
  {
   "cell_type": "code",
   "execution_count": 35,
   "metadata": {},
   "outputs": [
    {
     "name": "stdout",
     "output_type": "stream",
     "text": [
      "Predicting model - random\n",
      "99/99 [==============================] - 2s 23ms/step\n",
      "2/2 [==============================] - 0s 16ms/step\n",
      "Predicting model - select\n",
      "99/99 [==============================] - 2s 23ms/step\n",
      "2/2 [==============================] - 0s 28ms/step\n"
     ]
    }
   ],
   "source": [
    "# Get evaluation after retraining\n",
    "predictions['random']['after'] = {}\n",
    "predictions['select']['after'] = {}\n",
    "\n",
    "print(\"Predicting model - random\")\n",
    "predictions['random']['after']['100'] = model_random.predict(np.array(list(test_data_100[0])), batch_size=2048, verbose=1).squeeze()\n",
    "predictions['random']['after']['1'] = model_random.predict(np.array(list(test_data_1[0])), batch_size=2048, verbose=1).squeeze()\n",
    "\n",
    "print(\"Predicting model - select\")\n",
    "predictions['select']['after']['100'] = model.predict(np.array(list(test_data_100[0])), batch_size=2048, verbose=1).squeeze()\n",
    "predictions['select']['after']['1'] = model.predict(np.array(list(test_data_1[0])), batch_size=2048, verbose=1).squeeze()"
   ]
  },
  {
   "cell_type": "code",
   "execution_count": 37,
   "metadata": {},
   "outputs": [
    {
     "data": {
      "image/png": "[encoded data removed]",
      "text/plain": [
       "<Figure size 1080x360 with 2 Axes>"
      ]
     },
     "metadata": {
      "needs_background": "light"
     },
     "output_type": "display_data"
    }
   ],
   "source": [
    "from sklearn.metrics import PrecisionRecallDisplay\n",
    "import matplotlib.pyplot as plt\n",
    "\n",
    "f, ax = plt.subplots(1, 2, figsize=(15,5))\n",
    "\n",
    "f.suptitle(\"Precision-Recall curve | 0.6 < IH < 0.9 with easy start\", fontsize=16)\n",
    "y_true = np.array(list(test_data_100[1]))\n",
    "_ = PrecisionRecallDisplay.from_predictions(y_true, predictions['random']['before']['100'], ax=ax[0], name = \"baseline\", marker=\"x\", markersize=1, linestyle='--')\n",
    "_ = PrecisionRecallDisplay.from_predictions(y_true, predictions['select']['before']['100'], ax=ax[0], name = \"baseline IH\", marker=\",\", markersize=0, linestyle='--')\n",
    "_ = PrecisionRecallDisplay.from_predictions(y_true, predictions['random']['after']['100'], ax=ax[0], name = \"random\", marker=\"X\", markersize=0, linestyle='--')\n",
    "_ = PrecisionRecallDisplay.from_predictions(y_true, predictions['select']['after']['100'], ax=ax[0], name = \"IH\", marker=\".\", markersize=0, linestyle='--')\n",
    "_ = ax[0].set_title(f\"1:100 ratio\")\n",
    "\n",
    "y_true = np.array(list(test_data_1[1]))\n",
    "_ = PrecisionRecallDisplay.from_predictions(y_true, predictions['random']['before']['1'], ax=ax[1], name = \"baseline\", marker=\"x\", markersize=1, linestyle='--')\n",
    "_ = PrecisionRecallDisplay.from_predictions(y_true, predictions['select']['before']['1'], ax=ax[1], name = \"baseline IH\", marker=\",\", markersize=0, linestyle='--')\n",
    "_ = PrecisionRecallDisplay.from_predictions(y_true, predictions['random']['after']['1'], ax=ax[1], name = \"random\", marker=\"X\", markersize=0, linestyle='--')\n",
    "_ = PrecisionRecallDisplay.from_predictions(y_true, predictions['select']['after']['1'], ax=ax[1], name = \"IH\", marker=\".\", markersize=0, linestyle='--')\n",
    "_ = ax[1].set_title(f\"1:1 ratio\")\n"
   ]
  }
 ],
 "metadata": {
  "kernelspec": {
   "display_name": "colab-gpu",
   "language": "python",
   "name": "colab-gpu"
  },
  "language_info": {
   "codemirror_mode": {
    "name": "ipython",
    "version": 3
   },
   "file_extension": ".py",
   "mimetype": "text/x-python",
   "name": "python",
   "nbconvert_exporter": "python",
   "pygments_lexer": "ipython3",
   "version": "3.9.7"
  },
  "orig_nbformat": 4
 },
 "nbformat": 4,
 "nbformat_minor": 2
}
